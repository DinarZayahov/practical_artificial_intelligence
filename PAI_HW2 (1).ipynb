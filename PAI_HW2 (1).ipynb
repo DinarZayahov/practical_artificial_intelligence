{
  "nbformat": 4,
  "nbformat_minor": 0,
  "metadata": {
    "colab": {
      "name": "PAI_HW2.ipynb",
      "provenance": [],
      "collapsed_sections": []
    },
    "kernelspec": {
      "name": "python3",
      "display_name": "Python 3"
    },
    "language_info": {
      "name": "python"
    }
  },
  "cells": [
    {
      "cell_type": "markdown",
      "metadata": {
        "id": "YNqs3eXwYlrf"
      },
      "source": [
        "Algorithm to work with:\n",
        "1. Create templates for 3 types\n",
        "2. Take a sentence and define if it is defrule, deftemplate or assert\n",
        "3. Take the needed parts from sentence\n",
        "4. Print sentence in CLIPS form"
      ]
    },
    {
      "cell_type": "markdown",
      "metadata": {
        "id": "_E5jBF5-_ote"
      },
      "source": [
        "Libraries:"
      ]
    },
    {
      "cell_type": "code",
      "metadata": {
        "colab": {
          "base_uri": "https://localhost:8080/"
        },
        "id": "TJ5hyzIY_WwJ",
        "outputId": "383a84c6-cde8-4c76-9f96-49867e9e69c7"
      },
      "source": [
        "import spacy\n",
        "import en_core_web_sm\n",
        "from spacy.matcher import Matcher\n",
        "import nltk\n",
        "from nltk.tokenize import word_tokenize\n",
        "\n",
        "nlp = en_core_web_sm.load()\n",
        "nltk.download('punkt')\n",
        "nltk.download('averaged_perceptron_tagger')"
      ],
      "execution_count": 1,
      "outputs": [
        {
          "output_type": "stream",
          "name": "stdout",
          "text": [
            "[nltk_data] Downloading package punkt to /root/nltk_data...\n",
            "[nltk_data]   Package punkt is already up-to-date!\n",
            "[nltk_data] Downloading package averaged_perceptron_tagger to\n",
            "[nltk_data]     /root/nltk_data...\n",
            "[nltk_data]   Package averaged_perceptron_tagger is already up-to-\n",
            "[nltk_data]       date!\n"
          ]
        },
        {
          "output_type": "execute_result",
          "data": {
            "text/plain": [
              "True"
            ]
          },
          "metadata": {},
          "execution_count": 1
        }
      ]
    },
    {
      "cell_type": "markdown",
      "metadata": {
        "id": "sbEXJvR0_G77"
      },
      "source": [
        "Functions to print different types of structure in CLIPS:"
      ]
    },
    {
      "cell_type": "code",
      "metadata": {
        "id": "0cDrP6v6T6Xp"
      },
      "source": [
        "def deftemplate(arr):\n",
        "  print(\"(deftemplate {}\".format(arr[0]))\n",
        "  print(\"\\t\", end = '')\n",
        "  if len(arr) > 1:\n",
        "    for word in arr[1:]:\n",
        "      print(\"(slot {}) \".format(word), end = '')\n",
        "    print(\")\")\n",
        "\n",
        "\n",
        "def assert_(arr):\n",
        "  if len(arr) > 2:\n",
        "    print(\"(assert ({} ({} {})))\".format(arr[0], arr[1], arr[2]))\n",
        "  else:\n",
        "    print(\"No translation for this assert\")\n",
        "\n",
        "\n",
        "# For simplicity: If assert then assert\n",
        "def defrule(arr):\n",
        "  part1 = arr[0]\n",
        "  part2 = arr[1]\n",
        "  print(\"(defrule someRule\")\n",
        "  print(\"\\t({} (\".format(part1[0]), end = '')\n",
        "  if len(part1) > 1:\n",
        "    for word in part1[1:]:\n",
        "      print(\"{} \".format(word), end = '')\n",
        "  print(\")) => \", end = '')\n",
        "  assert_(part2)"
      ],
      "execution_count": 2,
      "outputs": []
    },
    {
      "cell_type": "markdown",
      "metadata": {
        "id": "Z8vYFGXB_3H3"
      },
      "source": [
        "Patterns for template, assert and rule:"
      ]
    },
    {
      "cell_type": "code",
      "metadata": {
        "id": "U_YUXTXm5uWI"
      },
      "source": [
        "template_patterns = []\n",
        "for pos in ['PROPN', 'NOUN']:\n",
        "  for lemma in ['be', 'have']:\n",
        "    template_pattern = [{'OP': '*'},\n",
        "                        {'POS': pos},\n",
        "                        {'OP': '*'},\n",
        "                        {'LEMMA': lemma},\n",
        "                        {'OP': '*'},\n",
        "                        {'POS': 'NOUN', 'OP': '+'}]\n",
        "    template_patterns.append(template_pattern)\n",
        "\n",
        "\n",
        "assert_patterns = []\n",
        "for pos in ['PROPN', 'NOUN']:\n",
        "  for lemma in ['be', 'exist']:\n",
        "    assert_pattern = [{'LEMMA': 'there'},\n",
        "                    {'OP': '*'},\n",
        "                    {'LEMMA': lemma},\n",
        "                    {'OP': '*'},\n",
        "                    {'POS': pos},\n",
        "                    {'OP': '*'},\n",
        "                    {'LEMMA': 'with', 'OP': '?'},\n",
        "                    {'OP': '*'},\n",
        "                    {'POS': 'NOUN', 'OP': '*'}]\n",
        "    assert_patterns.append(assert_pattern)\n",
        "\n",
        "\n",
        "rule_patterns = []\n",
        "for assert_pattern in assert_patterns:\n",
        "  rule_pattern = [{'LEMMA': 'if'}]+assert_pattern+[{'LEMMA': 'then'}]+assert_pattern\n",
        "  rule_patterns.append(rule_pattern)"
      ],
      "execution_count": 3,
      "outputs": []
    },
    {
      "cell_type": "markdown",
      "metadata": {
        "id": "zwT5J5o4AHYm"
      },
      "source": [
        "Function which determines if sentence matches with given pattern:"
      ]
    },
    {
      "cell_type": "code",
      "metadata": {
        "id": "zegQl8Y9zjmi"
      },
      "source": [
        "def isMatch(sent, patterns):\n",
        "  matcher = Matcher(nlp.vocab)\n",
        "  if patterns == template_patterns:\n",
        "    matcher.add(\"Template_pattern\", patterns)\n",
        "  elif patterns == assert_patterns:\n",
        "    matcher.add(\"Assert_pattern\", patterns)\n",
        "  elif patterns == rule_patterns:\n",
        "    matcher.add(\"Rule_pattern\", patterns)\n",
        "  doc = nlp(sent)\n",
        "  matches = matcher(doc)\n",
        "  if len(matches) != 0:\n",
        "    return True\n",
        "  else:\n",
        "    return False"
      ],
      "execution_count": 4,
      "outputs": []
    },
    {
      "cell_type": "markdown",
      "metadata": {
        "id": "Oad_tPx_AgvZ"
      },
      "source": [
        "The function which removes all the unneeded words from sentence:"
      ]
    },
    {
      "cell_type": "code",
      "metadata": {
        "id": "GPeDNiKDO00g"
      },
      "source": [
        "def simplify(sentence, debug=False):\n",
        "  doc = nlp(sentence)\n",
        "  nouns = []\n",
        "  for chunk in doc.noun_chunks:\n",
        "    c = chunk.text\n",
        "    c = c.split(\" \")\n",
        "    nouns+= c\n",
        "\n",
        "  arr = []\n",
        "  for token in doc:\n",
        "    if (token.text in nouns) or (token.head.text in arr):\n",
        "      arr.append(token.text)\n",
        "  new = ' '.join(arr)\n",
        "  doc = nlp(new)\n",
        "  \n",
        "  news = \" \".join([token.lemma_ for token in doc])\n",
        "  tokens = word_tokenize(news)\n",
        "  tagged = nltk.pos_tag(tokens)\n",
        "  filtered = []\n",
        "  for i in tagged:\n",
        "    if i[1] in ['NN', 'NNP', 'NNS', 'VBN', 'JJ', 'VBD']:\n",
        "      filtered.append(i[0])\n",
        "\n",
        "  if debug:\n",
        "    print(new)\n",
        "    print(tagged)\n",
        "\n",
        "  return filtered"
      ],
      "execution_count": 5,
      "outputs": []
    },
    {
      "cell_type": "markdown",
      "metadata": {
        "id": "5F6yFuKFAlV6"
      },
      "source": [
        "Main function which determines the sentence structure, simplifies it, then passes to print:"
      ]
    },
    {
      "cell_type": "code",
      "metadata": {
        "id": "GS5XJJzmVksc"
      },
      "source": [
        "def translate(sentence):\n",
        "  if isMatch(sentence, rule_patterns):\n",
        "    sent = sentence.split(\"then\")\n",
        "    s1, s2 = sent[0], sent[1]\n",
        "    defrule([simplify(s1), simplify(s2)])\n",
        "  elif isMatch(sentence, template_patterns):\n",
        "    s = simplify(sentence)\n",
        "    deftemplate(s)\n",
        "  elif isMatch(sentence, assert_patterns):\n",
        "    s = simplify(sentence)\n",
        "    assert_(s)\n",
        "  else:\n",
        "    print(\"The sentence doesn't match any pattern\")"
      ],
      "execution_count": 6,
      "outputs": []
    },
    {
      "cell_type": "markdown",
      "metadata": {
        "id": "a2E1LKofAyHw"
      },
      "source": [
        "Examples:"
      ]
    },
    {
      "cell_type": "code",
      "metadata": {
        "id": "75Kn4RujWpp0"
      },
      "source": [
        "s1 = \"Cat template has properties of color, age, and name.\"\n",
        "s2 = \"There exists a cat with the name Bob.\"\n",
        "s3 = \"If there exists cat named Bor then there exists a cat named Tom.\""
      ],
      "execution_count": 7,
      "outputs": []
    },
    {
      "cell_type": "markdown",
      "metadata": {
        "id": "thVae-6AA1ot"
      },
      "source": [
        "Their outputs:"
      ]
    },
    {
      "cell_type": "code",
      "metadata": {
        "colab": {
          "base_uri": "https://localhost:8080/"
        },
        "id": "G3I5CMv_CD6y",
        "outputId": "52822ea6-65ee-4196-a120-8618e0581af3"
      },
      "source": [
        "translate(s1)\n",
        "print(\"\\n\")\n",
        "translate(s2)\n",
        "print(\"\\n\")\n",
        "translate(s3)"
      ],
      "execution_count": 8,
      "outputs": [
        {
          "output_type": "stream",
          "name": "stdout",
          "text": [
            "(deftemplate Cat\n",
            "\t(slot template) (slot property) (slot color) (slot age) (slot name) )\n",
            "\n",
            "\n",
            "(assert (cat (name Bob)))\n",
            "\n",
            "\n",
            "(defrule someRule\n",
            "\t(cat (name Bor )) => (assert (cat (name Tom)))\n"
          ]
        }
      ]
    },
    {
      "cell_type": "markdown",
      "metadata": {
        "id": "BXJLVGyQFbn-"
      },
      "source": [
        "More examples:"
      ]
    },
    {
      "cell_type": "code",
      "metadata": {
        "id": "fSV-Q1hF1ceX"
      },
      "source": [
        "templates = [\n",
        "             \"A dog has tail, 4 legs and voice\",\n",
        "             \"Car is engine, 4 wheels and color\"\n",
        "]\n",
        "asserts = [\n",
        "           \"There is a car of white color\",\n",
        "           \"There is dog named Jo\"\n",
        "]\n",
        "rules = [\n",
        "         \"If there is car colored white then there is dog named Bob\"\n",
        "]"
      ],
      "execution_count": 9,
      "outputs": []
    },
    {
      "cell_type": "markdown",
      "metadata": {
        "id": "kvkoKr61Clp4"
      },
      "source": [
        "Outputs:"
      ]
    },
    {
      "cell_type": "code",
      "metadata": {
        "colab": {
          "base_uri": "https://localhost:8080/"
        },
        "id": "6JC20tDKCZUZ",
        "outputId": "3a7aae5d-fb4c-4f53-cb2a-cf71cb4f8c28"
      },
      "source": [
        "translate(templates[0])\n",
        "print(\"\\n\")\n",
        "translate(templates[1])\n",
        "print(\"\\n\")\n",
        "translate(asserts[0])\n",
        "print(\"\\n\")\n",
        "translate(asserts[1])\n",
        "print(\"\\n\")\n",
        "translate(rules[0])"
      ],
      "execution_count": 10,
      "outputs": [
        {
          "output_type": "stream",
          "name": "stdout",
          "text": [
            "(deftemplate dog\n",
            "\t(slot tail) (slot leg) (slot voice) )\n",
            "\n",
            "\n",
            "(deftemplate car\n",
            "\t(slot engine) (slot wheel) (slot color) )\n",
            "\n",
            "\n",
            "(assert (car (white color)))\n",
            "\n",
            "\n",
            "(assert (dog (name Jo)))\n",
            "\n",
            "\n",
            "(defrule someRule\n",
            "\t(car (white )) => (assert (dog (name Bob)))\n"
          ]
        }
      ]
    },
    {
      "cell_type": "markdown",
      "metadata": {
        "id": "4AXAI1A-A49n"
      },
      "source": [
        "Interaction with user:"
      ]
    },
    {
      "cell_type": "code",
      "metadata": {
        "colab": {
          "base_uri": "https://localhost:8080/"
        },
        "id": "Ime-Y3TD1vkU",
        "outputId": "1fde2082-bb8e-4f03-d140-ecfd6ffcc488"
      },
      "source": [
        "# try to use similar constructions\n",
        "while True:\n",
        "  s = input(\"Write your sentence:\")\n",
        "  if s == 'q':\n",
        "    break\n",
        "  translate(s)"
      ],
      "execution_count": 13,
      "outputs": [
        {
          "name": "stdout",
          "output_type": "stream",
          "text": [
            "Write your sentence:q\n"
          ]
        }
      ]
    }
  ]
}