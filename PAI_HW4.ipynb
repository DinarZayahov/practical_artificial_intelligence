{
 "cells": [
  {
   "cell_type": "markdown",
   "metadata": {},
   "source": [
    "Note: `cv2.imshow()` is used!"
   ]
  },
  {
   "cell_type": "code",
   "execution_count": 16,
   "metadata": {},
   "outputs": [],
   "source": [
    "import cv2\n",
    "import math\n",
    "import numpy as np"
   ]
  },
  {
   "cell_type": "code",
   "execution_count": 17,
   "metadata": {},
   "outputs": [],
   "source": [
    "class EuclideanDistTracker:\n",
    "    def __init__(self):\n",
    "        # Store the center positions of the objects\n",
    "        self.center_points = {}\n",
    "        # Keep the count of the IDs\n",
    "        # each time a new object id detected, the count will increase by one\n",
    "        self.id_count = 0\n",
    "        # History of center points\n",
    "        self.history_of_center_points = {}\n",
    "\n",
    "\n",
    "    def update(self, objects_rect):\n",
    "        r = lambda: np.random.randint(0,255)\n",
    "        # Objects boxes and ids\n",
    "        objects_bbs_ids = []\n",
    "\n",
    "        # Get center point of new object\n",
    "        for rect in objects_rect:\n",
    "            x, y, w, h = rect\n",
    "            cx = (x + x + w) // 2\n",
    "            cy = (y + y + h) // 2\n",
    "\n",
    "            # Find out if that object was detected already\n",
    "            same_object_detected = False\n",
    "            for id, pt in self.center_points.items():\n",
    "                dist = math.hypot(cx - pt[0], cy - pt[1])\n",
    "\n",
    "                if dist < 25:\n",
    "                    self.center_points[id] = (cx, cy)\n",
    "                    self.history_of_center_points[id].append((cx, cy))\n",
    "                    objects_bbs_ids.append([x, y, w, h, id])\n",
    "                    same_object_detected = True\n",
    "                    break\n",
    "\n",
    "            # New object is detected we assign the ID to that object\n",
    "            if same_object_detected is False:\n",
    "                self.center_points[self.id_count] = (cx, cy)\n",
    "                self.history_of_center_points[self.id_count] = [(r(),r(),r()), (cx, cy)]\n",
    "                objects_bbs_ids.append([x, y, w, h, self.id_count])\n",
    "                self.id_count += 1\n",
    "\n",
    "        # Clean the dictionary by center points to remove IDS not used anymore\n",
    "        new_history_of_center_points = {}\n",
    "        new_center_points = {}\n",
    "        for obj_bb_id in objects_bbs_ids:\n",
    "            _, _, _, _, object_id = obj_bb_id\n",
    "            center = self.center_points[object_id]\n",
    "            history = self.history_of_center_points[object_id]\n",
    "            new_center_points[object_id] = center\n",
    "            new_history_of_center_points[object_id] = history\n",
    "\n",
    "        # Update dictionary with IDs not used removed\n",
    "        self.center_points = new_center_points.copy()\n",
    "        self.history_of_center_points = new_history_of_center_points.copy()\n",
    "        return self.history_of_center_points\n"
   ]
  },
  {
   "cell_type": "markdown",
   "metadata": {},
   "source": [
    "Running cell below will show video, press \"ESC\" to quit"
   ]
  },
  {
   "cell_type": "code",
   "execution_count": 19,
   "metadata": {},
   "outputs": [
    {
     "name": "stdout",
     "output_type": "stream",
     "text": [
      "Not found\n"
     ]
    }
   ],
   "source": [
    "tracker = EuclideanDistTracker()\n",
    "\n",
    "cap = cv2.VideoCapture(\"./cars.mp4\")\n",
    "\n",
    "size = (684, 360)\n",
    "out = cv2.VideoWriter('cars_tracked.mp4',cv2.VideoWriter_fourcc(*'DIVX'), 25, size)\n",
    "\n",
    "object_detector = cv2.createBackgroundSubtractorMOG2(history=500, varThreshold=40)\n",
    "\n",
    "while True:\n",
    "    ret, frame = cap.read()\n",
    "    \n",
    "    if ret == False:\n",
    "        print(\"Not found\")\n",
    "        break\n",
    "    \n",
    "    mask = object_detector.apply(frame)\n",
    "    allContours, hierarchy = cv2.findContours(mask, cv2.RETR_TREE, cv2.CHAIN_APPROX_SIMPLE)\n",
    "    \n",
    "    contours = []\n",
    "    for i in range(len(allContours)):\n",
    "        if hierarchy[0][i][3] == -1:\n",
    "            contours.append(allContours[i])\n",
    "    \n",
    "    detections = []\n",
    "    for cnt in contours:\n",
    "        area = cv2.contourArea(cnt)\n",
    "        if area > 80:\n",
    "            x, y, w, h = cv2.boundingRect(cnt)\n",
    "            cv2.rectangle(frame, (x, y), (x+w, y+h), (0, 255, 0), 1)\n",
    "            detections.append([x, y, w, h])\n",
    "            \n",
    "    history = list(tracker.update(detections).values())\n",
    "\n",
    "    for i in range(len(history)):\n",
    "        color = history[i][0]\n",
    "        new_history = []\n",
    "        for tpl in history[i][1::15]:\n",
    "            new_history.append(list(tpl))\n",
    "        cv2.polylines(frame, [np.array(new_history, np.int32)], False, color, 2)\n",
    "\n",
    "    cv2.imshow(\"Frame\", frame)\n",
    "    \n",
    "    if ret:\n",
    "        vidout=cv2.resize(frame,size)\n",
    "        out.write(vidout)\n",
    "\n",
    "    # press Esc to quit\n",
    "    key = cv2.waitKey(30)\n",
    "    if key == 27:\n",
    "        break\n",
    "\n",
    "cap.release()\n",
    "out.release()\n",
    "cv2.destroyAllWindows()"
   ]
  }
 ],
 "metadata": {
  "kernelspec": {
   "display_name": "Python 3",
   "language": "python",
   "name": "python3"
  },
  "language_info": {
   "codemirror_mode": {
    "name": "ipython",
    "version": 3
   },
   "file_extension": ".py",
   "mimetype": "text/x-python",
   "name": "python",
   "nbconvert_exporter": "python",
   "pygments_lexer": "ipython3",
   "version": "3.7.3"
  }
 },
 "nbformat": 4,
 "nbformat_minor": 2
}
